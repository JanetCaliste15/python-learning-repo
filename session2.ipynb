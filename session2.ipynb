{
 "cells": [
  {
   "cell_type": "code",
   "execution_count": 24,
   "metadata": {},
   "outputs": [
    {
     "name": "stdout",
     "output_type": "stream",
     "text": [
      "1\n"
     ]
    }
   ],
   "source": [
    "(x) = 1\n",
    "print(x)\n",
    "\n"
   ]
  },
  {
   "cell_type": "code",
   "execution_count": 25,
   "metadata": {},
   "outputs": [
    {
     "name": "stdout",
     "output_type": "stream",
     "text": [
      "1\n",
      "2\n",
      "4\n"
     ]
    }
   ],
   "source": [
    "x =1\n",
    "print(x)\n",
    "\n",
    "x +=1\n",
    "print(x)\n",
    "\n",
    "x=4\n",
    "print(x)\n",
    "\n"
   ]
  },
  {
   "cell_type": "code",
   "execution_count": 26,
   "metadata": {},
   "outputs": [
    {
     "name": "stdout",
     "output_type": "stream",
     "text": [
      "My name is Janet!\n"
     ]
    }
   ],
   "source": [
    "phrase = \"My name is Janet!\"\n",
    "print (phrase)"
   ]
  },
  {
   "cell_type": "code",
   "execution_count": null,
   "metadata": {},
   "outputs": [
    {
     "name": "stdout",
     "output_type": "stream",
     "text": [
      "name is Janet!\n"
     ]
    }
   ],
   "source": [
    "sub_string_2 = phrase[3:]\n",
    "print(sub_string_2)"
   ]
  },
  {
   "cell_type": "code",
   "execution_count": null,
   "metadata": {},
   "outputs": [
    {
     "name": "stdout",
     "output_type": "stream",
     "text": [
      "\n"
     ]
    }
   ],
   "source": [
    "phrase = phrase[-5:2]\n",
    "print(phrase)"
   ]
  },
  {
   "cell_type": "code",
   "execution_count": null,
   "metadata": {},
   "outputs": [
    {
     "name": "stdout",
     "output_type": "stream",
     "text": [
      "My name is J\n"
     ]
    }
   ],
   "source": [
    "sub_string_3 = phrase[:-5]\n",
    "print(sub_string_3)"
   ]
  },
  {
   "cell_type": "code",
   "execution_count": null,
   "metadata": {},
   "outputs": [
    {
     "name": "stdout",
     "output_type": "stream",
     "text": [
      "<class 'list'>\n"
     ]
    }
   ],
   "source": [
    "#LISTS#\n",
    "\n",
    "list_1 = []\n",
    "print(type(list_1))"
   ]
  },
  {
   "cell_type": "code",
   "execution_count": null,
   "metadata": {},
   "outputs": [
    {
     "name": "stdout",
     "output_type": "stream",
     "text": [
      "['red', 'blue', 'green']\n"
     ]
    }
   ],
   "source": [
    "colours = [\"red\",\"blue\", \"green\"]\n",
    "print(colours)"
   ]
  },
  {
   "cell_type": "code",
   "execution_count": null,
   "metadata": {},
   "outputs": [
    {
     "name": "stdout",
     "output_type": "stream",
     "text": [
      "['red', 'blue', 'green', 'colour']\n"
     ]
    }
   ],
   "source": [
    "colour = \"teal\"\n",
    "colours = [\"red\",\"blue\", \"green\",\"colour\"]\n",
    "print(colours)"
   ]
  },
  {
   "cell_type": "code",
   "execution_count": null,
   "metadata": {},
   "outputs": [
    {
     "name": "stdout",
     "output_type": "stream",
     "text": [
      "['red', 'blue', 'green', 'colour', 'purple']\n"
     ]
    }
   ],
   "source": [
    "colour = \"teal\"\n",
    "colours = [\"red\",\"blue\", \"green\",\"colour\"]\n",
    "colours.append('purple')\n",
    "print(colours)"
   ]
  },
  {
   "cell_type": "code",
   "execution_count": null,
   "metadata": {},
   "outputs": [
    {
     "name": "stdout",
     "output_type": "stream",
     "text": [
      "['red', 'blue', 'green', 'colour', 'purple']\n",
      "['red', 'blue', 'green', 'colour', 'purple', ['turquoise', 'teal']]\n"
     ]
    }
   ],
   "source": [
    "colour = \"teal\"\n",
    "colours = [\"red\",\"blue\", \"green\",\"colour\"]\n",
    "colours.append('purple')\n",
    "print(colours)\n",
    "extra_colours = ['turquoise', \"teal\"]\n",
    "colours.append(extra_colours)\n",
    "print(colours)"
   ]
  },
  {
   "cell_type": "code",
   "execution_count": null,
   "metadata": {},
   "outputs": [
    {
     "name": "stdout",
     "output_type": "stream",
     "text": [
      "['red', 'blue', 'green', 'colour', 'purple']\n",
      "['red', 'blue', 'green', 'colour', 'purple', ['turquoise', 'teal']]\n",
      "teal\n"
     ]
    }
   ],
   "source": [
    "colour = \"teal\"\n",
    "colours = [\"red\",\"blue\", \"green\",\"colour\"]\n",
    "colours.append('purple')\n",
    "print(colours)\n",
    "extra_colours = ['turquoise', \"teal\"]\n",
    "colours.append(extra_colours)\n",
    "print(colours)\n",
    "print(colours[-1][1])"
   ]
  },
  {
   "cell_type": "code",
   "execution_count": 29,
   "metadata": {},
   "outputs": [
    {
     "name": "stdout",
     "output_type": "stream",
     "text": [
      "['red', 'blue', 'green', 'colour', 'purple']\n",
      "['red', 'blue', 'green', 'colour', 'purple', ['turquoise', 'teal']]\n",
      "teal\n",
      "['red', 'blue', 'colour', 'purple', ['turquoise', 'teal']]\n"
     ]
    }
   ],
   "source": [
    "colour = \"teal\"\n",
    "colours = [\"red\",\"blue\", \"green\",\"colour\"]\n",
    "colours.append('purple')\n",
    "print(colours)\n",
    "extra_colours = ['turquoise', \"teal\"]\n",
    "colours.append(extra_colours)\n",
    "print(colours)\n",
    "print(colours[-1][1])\n",
    "colours.remove('green')\n",
    "print(colours)"
   ]
  },
  {
   "cell_type": "code",
   "execution_count": null,
   "metadata": {},
   "outputs": [
    {
     "name": "stdout",
     "output_type": "stream",
     "text": [
      "['red', 'blue', 'green', 'teal']\n",
      "['red', 'blue', 'green', 'teal', 'puple']\n",
      "teal\n",
      "['red', 'blue', 'green', 'teal', 'puple', ['turquoise', 'teal'], 'turquoise', 'teal']\n",
      "['red', 'blue', 'green', 'puple', ['turquoise', 'teal'], 'turquoise', 'teal']\n",
      "['red', 'blue', 'green', 'puple', ['turquoise', 'teal'], 'turquoise']\n"
     ]
    }
   ],
   "source": [
    "colour = \"teal\"\n",
    "\n",
    "colours = [\"red\", \"blue\", \"green\", colour]\n",
    "print(colours)\n",
    "\n",
    "colours.append('puple')\n",
    "print(colours)\n",
    "\n",
    "extra_colours = ['turquoise', \"teal\"]\n",
    "colours.append(extra_colours)\n",
    "print(colours[-1][1])\n",
    "\n",
    "colours.extend(extra_colours)\n",
    "print(colours)\n",
    "\n",
    "colours.remove('teal')\n",
    "print(colours)\n",
    "colours.remove('teal')\n",
    "print(colours)"
   ]
  },
  {
   "cell_type": "code",
   "execution_count": 30,
   "metadata": {},
   "outputs": [
    {
     "name": "stdout",
     "output_type": "stream",
     "text": [
      "['burger', 'pizza', 'pasta', 'pasty']\n"
     ]
    }
   ],
   "source": [
    "food_list = [\"burger\", \"pizza\",\"pasta\"]\n",
    "\n",
    "food_list.append(\"pasty\")\n",
    "\n",
    "print(food_list)"
   ]
  },
  {
   "cell_type": "code",
   "execution_count": 31,
   "metadata": {},
   "outputs": [
    {
     "name": "stdout",
     "output_type": "stream",
     "text": [
      "['burger', 'pizza', 'pasta', 'pasty', 'chocolate', 'crackers', 'cabbage', 'sausages']\n",
      "['burger', 'pizza', 'pasta', 'pasty', 'chocolate', 'cabbage', 'sausages']\n"
     ]
    }
   ],
   "source": [
    "food_list = [\"burger\", \"pizza\", \"pasta\"]\n",
    "\n",
    "# Then extend the list with another food and print it.\n",
    "food_list.append(\"pasty\")\n",
    "\n",
    "# Next, make another list of foods, and use the extend method to \n",
    "# add those extra foods as individual elements of the list, and print it.\n",
    "more_foods = [\"chocolate\", \"crackers\"]\n",
    "food_list.extend(more_foods)\n",
    "food_list.extend([\"cabbage\", \"sausages\"])\n",
    "\n",
    "print(food_list)\n",
    "\n",
    "# Finally, remove and element from the list and print the final list.\n",
    "# Remember to always use a suitable name for your lists!\n",
    "food_list.remove(\"crackers\")\n",
    "print(food_list)"
   ]
  },
  {
   "cell_type": "code",
   "execution_count": null,
   "metadata": {},
   "outputs": [
    {
     "name": "stdout",
     "output_type": "stream",
     "text": [
      "[2, 3, 4, 5, 6, 6, 8, 9]\n"
     ]
    }
   ],
   "source": [
    "number_list = [3, 6, 4, 5, 2, 8, 9, 6]\n",
    "\n",
    "number_list.sort()\n",
    "print(number_list)"
   ]
  },
  {
   "cell_type": "code",
   "execution_count": null,
   "metadata": {},
   "outputs": [
    {
     "name": "stdout",
     "output_type": "stream",
     "text": [
      "[9, 8, 6, 6, 5, 4, 3, 2]\n"
     ]
    }
   ],
   "source": [
    "number_list = [3, 6, 4, 5, 2, 8, 9, 6]\n",
    "\n",
    "number_list.sort(reverse=True)\n",
    "print(number_list)"
   ]
  },
  {
   "cell_type": "code",
   "execution_count": null,
   "metadata": {},
   "outputs": [
    {
     "name": "stdout",
     "output_type": "stream",
     "text": [
      "[9, 8, 6, 6, 5, 4, 3, 2]\n",
      "[2, 3, 4, 5, 6, 6, 8, 9]\n"
     ]
    }
   ],
   "source": [
    "number_list = [3, 6, 4, 5, 2, 8, 9, 6]\n",
    "\n",
    "number_list.sort(reverse=True)\n",
    "print(number_list)\n",
    "\n",
    "sorted_list = sorted(number_list)\n",
    "print(sorted_list)"
   ]
  },
  {
   "cell_type": "code",
   "execution_count": null,
   "metadata": {},
   "outputs": [
    {
     "name": "stdout",
     "output_type": "stream",
     "text": [
      "['sausages', 'pizza', 'pasty', 'pasta', 'chocolate', 'cabbage', 'burger']\n"
     ]
    }
   ],
   "source": [
    "#LISTS WHICH DON'T HAVE NUMBERS#\n",
    "\n",
    "food_list.sort(reverse=True)\n",
    "print(food_list)\n"
   ]
  },
  {
   "cell_type": "code",
   "execution_count": null,
   "metadata": {},
   "outputs": [
    {
     "name": "stdout",
     "output_type": "stream",
     "text": [
      "[1, 1, 3, 4, 6, 6, 8]\n"
     ]
    }
   ],
   "source": [
    "numbers = [1, 4, 6, 8, 1, 3, 6]\n",
    "numbers.sort()\n",
    "print(numbers)\n"
   ]
  },
  {
   "cell_type": "code",
   "execution_count": null,
   "metadata": {},
   "outputs": [],
   "source": [
    "# sort your final list of foods using the .sort() method and the sorted() function,\n",
    " printing both, also try reversing it!#"
   ]
  },
  {
   "cell_type": "code",
   "execution_count": null,
   "metadata": {},
   "outputs": [
    {
     "name": "stdout",
     "output_type": "stream",
     "text": [
      "['burger', 'cabbage', 'chocolate', 'pasta', 'pasty', 'pizza', 'sausages']\n"
     ]
    }
   ],
   "source": [
    "food_list.sort()\n",
    "print(food_list)"
   ]
  },
  {
   "cell_type": "code",
   "execution_count": null,
   "metadata": {},
   "outputs": [],
   "source": [
    "food_list = ['burger', 'cabbage', 'chocolate', 'pasta', 'pasty', 'pizza', 'sausages']\n",
    "\n"
   ]
  },
  {
   "cell_type": "code",
   "execution_count": 32,
   "metadata": {},
   "outputs": [
    {
     "name": "stdout",
     "output_type": "stream",
     "text": [
      "['burger', 'cabbage', 'chocolate', 'pasta', 'pasty', 'pizza', 'sausages']\n",
      "['burger', 'cabbage', 'chocolate', 'pasta', 'pasty', 'pizza', 'sausages']\n",
      "['burger', 'pizza', 'pasta', 'pasty', 'chocolate', 'cabbage', 'sausages']\n"
     ]
    }
   ],
   "source": [
    "foods_list = [ 'pasta', 'pasty', 'pizza', 'sausages', 'burger', 'cabbage', 'chocolate']\n",
    "sorted_food = sorted(foods_list)\n",
    "foods_list.sort()\n",
    "print(sorted_food)\n",
    "print(foods_list)\n",
    "\n",
    "foods_list.sort(reverse=True)\n",
    "print(food_list)"
   ]
  },
  {
   "cell_type": "code",
   "execution_count": null,
   "metadata": {},
   "outputs": [
    {
     "data": {
      "text/plain": [
       "{'Janet': 'purple',\n",
       " 'Andy': ['teal', 'red'],\n",
       " 'Naiomi': {'monday': 'blue', 'sunday': 'orange', 'other days': 'white'}}"
      ]
     },
     "execution_count": 59,
     "metadata": {},
     "output_type": "execute_result"
    }
   ],
   "source": [
    "# DICTIONARIES#\n",
    "# FOR STORING DATA - STORE VARIABLES/SUB VARIABLES IN KEY VALUE PAIRS #\n",
    "\n",
    "favourite_colours ={\"Janet\":\"purple\",\n",
    "                    \"Andy\":[\"teal\",\"red\"], \n",
    "                    \"Naiomi\":{\"monday\":\"blue\",\n",
    "                              \"sunday\":\"orange\",\n",
    "                              \"other days\":\"white\"}\n",
    "}\n",
    "\n",
    "favourite_colours"
   ]
  },
  {
   "cell_type": "code",
   "execution_count": null,
   "metadata": {},
   "outputs": [
    {
     "data": {
      "text/plain": [
       "{'Will': 'purple',\n",
       " 'Andy': ['teal', 'red'],\n",
       " 'Naiomi': {'monday': 'blue', 'sunday': 'orange', 'other days': 'white'}}"
      ]
     },
     "execution_count": 60,
     "metadata": {},
     "output_type": "execute_result"
    }
   ],
   "source": [
    "favourite_colours = {\"Will\":\"purple\",\n",
    "                     \"Andy\":[\"teal\", \"red\"],\n",
    "                     \"Naiomi\":{\"monday\":\"blue\", \"sunday\":\"orange\", \"other days\":\"white\"}\n",
    "                     }\n",
    "\n",
    "favourite_colours"
   ]
  },
  {
   "cell_type": "code",
   "execution_count": 33,
   "metadata": {},
   "outputs": [
    {
     "name": "stdout",
     "output_type": "stream",
     "text": [
      "['The Pub', 'The Chippy', 'Fine Dining']\n",
      "dict_items([('The Pub', ['burger', 'pizza', 'pasta', 'pasty', 'chocolate', 'cabbage', 'sausages']), ('The Chippy', ['Fish', 'Chips', 'Battered Mars Bars']), ('Fine Dining', {'Week days': 'standard menu', 'Friday and Weekends': 'Tasting Menu'})])\n",
      "dict_keys(['The Pub', 'The Chippy', 'Fine Dining'])\n",
      "dict_values([['burger', 'pizza', 'pasta', 'pasty', 'chocolate', 'cabbage', 'sausages'], ['Fish', 'Chips', 'Battered Mars Bars'], {'Week days': 'standard menu', 'Friday and Weekends': 'Tasting Menu'}])\n"
     ]
    }
   ],
   "source": [
    "food_dict = {\"The Pub\":food_list,\n",
    "            \"The Chippy\":[\"Fish\", \"Chips\", \"Battered Mars Bars\"],\n",
    "            \"Fine Dining\":{\"Week days\":\"standard menu\",\n",
    "             \"Friday and Weekends\":\"Tasting Menu\"}}\n",
    "food_dict_keys = list(food_dict)\n",
    "print(food_dict_keys)\n",
    "\n",
    "print(food_dict.items())\n",
    "\n",
    "print(food_dict.keys())\n",
    "\n",
    "print(food_dict.values())\n"
   ]
  },
  {
   "cell_type": "code",
   "execution_count": null,
   "metadata": {},
   "outputs": [
    {
     "name": "stdout",
     "output_type": "stream",
     "text": [
      "dict_items([('Will', 'purple'), ('Andy', ['teal', 'red']), ('Naiomi', {'monday': 'blue', 'sunday': 'orange', 'other days': 'white'})])\n",
      "dict_keys(['Will', 'Andy', 'Naiomi'])\n",
      "dict_values(['purple', ['teal', 'red'], {'monday': 'blue', 'sunday': 'orange', 'other days': 'white'}])\n"
     ]
    }
   ],
   "source": [
    "favourite_colours = {\"Will\":\"purple\",\n",
    "                     \"Andy\":[\"teal\", \"red\"],\n",
    "                     \"Naiomi\":{\"monday\":\"blue\", \"sunday\":\"orange\", \"other days\":\"white\"}\n",
    "                     }\n",
    "\n",
    "print(favourite_colours.items())\n",
    "print(favourite_colours.keys())\n",
    "print(favourite_colours.values())\n"
   ]
  },
  {
   "cell_type": "code",
   "execution_count": null,
   "metadata": {},
   "outputs": [
    {
     "name": "stdout",
     "output_type": "stream",
     "text": [
      "purple\n"
     ]
    }
   ],
   "source": [
    "wills_colours = favourite_colours[\"Will\"]\n",
    "print(wills_colours)"
   ]
  },
  {
   "cell_type": "code",
   "execution_count": null,
   "metadata": {},
   "outputs": [
    {
     "name": "stdout",
     "output_type": "stream",
     "text": [
      "{'Will': 'purple', 'Andy': ['teal', 'red'], 'Naiomi': {'monday': 'blue', 'sunday': 'orange', 'other days': 'white'}, 'Annie': ['Gold', 'Silver']}\n"
     ]
    }
   ],
   "source": [
    "favourite_colours[\"Annie\"] = [\"Gold\", \"Silver\"]\n",
    "print(favourite_colours)"
   ]
  },
  {
   "cell_type": "code",
   "execution_count": null,
   "metadata": {},
   "outputs": [
    {
     "name": "stdout",
     "output_type": "stream",
     "text": [
      "False\n"
     ]
    }
   ],
   "source": [
    "print(\"Mo\" in favourite_colours)"
   ]
  },
  {
   "cell_type": "code",
   "execution_count": 34,
   "metadata": {},
   "outputs": [
    {
     "name": "stdout",
     "output_type": "stream",
     "text": [
      "['burger', 'pizza', 'pasta', 'pasty', 'chocolate', 'cabbage', 'sausages']\n",
      "{'The Pub': ['burger', 'pizza', 'pasta', 'pasty', 'chocolate', 'cabbage', 'sausages'], 'The Chippy': ['Fish', 'Chips', 'Battered Mars Bars'], 'Fine Dining': {'Week days': 'standard menu', 'Fridays and Weekends': 'Tasting Menu'}, 'mcdonalds': 'Burger'}\n",
      "True\n"
     ]
    }
   ],
   "source": [
    "food_dict = {\"The Pub\":food_list,\n",
    "             \"The Chippy\":[\"Fish\", \"Chips\", \"Battered Mars Bars\"],\n",
    "             \"Fine Dining\":{\"Week days\":\"standard menu\",\n",
    "                            \"Fridays and Weekends\":\"Tasting Menu\"}}\n",
    "# Using the key, print the values of one of the restaurants in your dicitonary.\n",
    "# Add a new key:value pair to your dictionary, as above.\n",
    "# Check whether 'mcdonalds' is a key in your dictionary, printing the answer.\n",
    "print(food_dict['The Pub'])\n",
    "\n",
    "food_dict['mcdonalds'] = \"Burger\"\n",
    "print(food_dict)\n",
    "\n",
    "print('mcdonalds' in food_dict)"
   ]
  },
  {
   "cell_type": "code",
   "execution_count": null,
   "metadata": {},
   "outputs": [],
   "source": []
  }
 ],
 "metadata": {
  "kernelspec": {
   "display_name": "Python 3",
   "language": "python",
   "name": "python3"
  },
  "language_info": {
   "codemirror_mode": {
    "name": "ipython",
    "version": 3
   },
   "file_extension": ".py",
   "mimetype": "text/x-python",
   "name": "python",
   "nbconvert_exporter": "python",
   "pygments_lexer": "ipython3",
   "version": "3.10.13"
  }
 },
 "nbformat": 4,
 "nbformat_minor": 2
}
